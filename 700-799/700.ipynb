{
 "cells": [
  {
   "cell_type": "code",
   "execution_count": 1,
   "metadata": {},
   "outputs": [],
   "source": [
    "M = 4503599627370517\n",
    "x = 1504170715041707\n",
    "invx = pow(x, -1, M)"
   ]
  },
  {
   "cell_type": "code",
   "execution_count": 5,
   "metadata": {},
   "outputs": [
    {
     "name": "stdout",
     "output_type": "stream",
     "text": [
      "8912517754604\n",
      "2044785486369\n",
      "1311409677241\n",
      "578033868113\n",
      "422691927098\n",
      "267349986083\n",
      "112008045068\n",
      "68674149121\n",
      "25340253174\n",
      "7346610401\n",
      "4046188430\n",
      "745766459\n",
      "428410324\n",
      "111054189\n",
      "15806432\n",
      "15397267\n",
      "14988102\n",
      "14578937\n",
      "14169772\n",
      "13760607\n",
      "13351442\n",
      "12942277\n",
      "12533112\n",
      "12123947\n",
      "11714782\n",
      "11305617\n",
      "10896452\n",
      "10487287\n",
      "10078122\n",
      "9668957\n",
      "9259792\n",
      "8850627\n",
      "8441462\n",
      "8032297\n",
      "7623132\n",
      "7213967\n",
      "6804802\n",
      "6395637\n",
      "5986472\n",
      "5577307\n",
      "5168142\n",
      "4758977\n",
      "4349812\n",
      "3940647\n",
      "3531482\n",
      "3122317\n",
      "2713152\n",
      "2303987\n",
      "1894822\n",
      "1485657\n",
      "1076492\n",
      "667327\n",
      "258162\n",
      "107159\n",
      "63315\n",
      "19471\n",
      "14569\n",
      "9667\n",
      "4765\n",
      "4628\n",
      "4491\n",
      "4354\n",
      "4217\n",
      "4080\n",
      "3943\n",
      "3806\n",
      "3669\n",
      "3532\n",
      "3395\n",
      "3258\n",
      "3121\n",
      "2984\n",
      "2847\n",
      "2710\n",
      "2573\n",
      "2436\n",
      "2299\n",
      "2162\n",
      "2025\n",
      "1888\n",
      "1751\n",
      "1614\n",
      "1477\n",
      "1340\n",
      "1203\n",
      "1066\n",
      "929\n",
      "792\n",
      "655\n",
      "518\n",
      "381\n",
      "244\n",
      "107\n",
      "77\n",
      "47\n",
      "17\n",
      "4\n",
      "3\n",
      "2\n",
      "1\n"
     ]
    }
   ],
   "source": [
    "coins = [x]\n",
    "\n",
    "mroot = M ** 0.5\n",
    "\n",
    "n = 1\n",
    "while coins[-1] != 1:\n",
    "    if coins[-1] > mroot:\n",
    "        n += 1\n",
    "        while n * x % M > coins[-1]:\n",
    "            n += 1\n",
    "    else:\n",
    "        next_n = min([k * invx % M for k in range(1, coins[-1])])\n",
    "        assert(next_n > n)\n",
    "        n = next_n\n",
    "    print(n * x % M)\n",
    "    coins.append(n * x % M)"
   ]
  },
  {
   "cell_type": "code",
   "execution_count": 7,
   "metadata": {},
   "outputs": [
    {
     "name": "stdout",
     "output_type": "stream",
     "text": [
      "1517926517777556\n"
     ]
    }
   ],
   "source": [
    "print(sum(coins))"
   ]
  },
  {
   "cell_type": "code",
   "execution_count": null,
   "metadata": {},
   "outputs": [],
   "source": []
  }
 ],
 "metadata": {
  "kernelspec": {
   "display_name": "Python 3",
   "language": "python",
   "name": "python3"
  },
  "language_info": {
   "codemirror_mode": {
    "name": "ipython",
    "version": 3
   },
   "file_extension": ".py",
   "mimetype": "text/x-python",
   "name": "python",
   "nbconvert_exporter": "python",
   "pygments_lexer": "ipython3",
   "version": "3.10.12"
  }
 },
 "nbformat": 4,
 "nbformat_minor": 2
}

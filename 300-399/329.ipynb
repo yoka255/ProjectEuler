{
 "cells": [
  {
   "cell_type": "code",
   "execution_count": 1,
   "metadata": {},
   "outputs": [
    {
     "name": "stdout",
     "output_type": "stream",
     "text": [
      "Sieving\n"
     ]
    },
    {
     "name": "stderr",
     "output_type": "stream",
     "text": [
      "100%|██████████| 499/499 [00:00<00:00, 3621034.08it/s]"
     ]
    },
    {
     "name": "stdout",
     "output_type": "stream",
     "text": [
      "Done sieving\n"
     ]
    },
    {
     "name": "stderr",
     "output_type": "stream",
     "text": [
      "\n"
     ]
    }
   ],
   "source": [
    "from euler import sieve\n",
    "\n",
    "N = 500\n",
    "\n",
    "is_prime = sieve(N + 1)"
   ]
  },
  {
   "cell_type": "code",
   "execution_count": 3,
   "metadata": {},
   "outputs": [],
   "source": [
    "from functools import cache\n",
    "from euler import Fraction\n",
    "\n",
    "def calc_single_prob(n: int, croak: str) -> Fraction:\n",
    "    if (croak == \"P\" and is_prime[n]) or (croak == \"N\" and not is_prime[n]):\n",
    "        return Fraction(2, 3)\n",
    "    return Fraction(1, 3)\n",
    "\n",
    "@cache\n",
    "def calc_prob(n: int, croaks: str) -> Fraction | int:\n",
    "    if len(croaks) == 0:\n",
    "        return 1\n",
    "    \n",
    "    if n == 1:\n",
    "        return calc_single_prob(n, croaks[0]) * calc_prob(2, croaks[1:])\n",
    "    if n == N:\n",
    "        return calc_single_prob(n, croaks[0]) * calc_prob(N - 1, croaks[1:])\n",
    "    return calc_single_prob(n, croaks[0]) * (calc_prob(n + 1, croaks[1:]) + calc_prob(n - 1, croaks[1:])) / 2"
   ]
  },
  {
   "cell_type": "code",
   "execution_count": 8,
   "metadata": {},
   "outputs": [
    {
     "data": {
      "text/plain": [
       "199740353 / 29386561536000"
      ]
     },
     "execution_count": 8,
     "metadata": {},
     "output_type": "execute_result"
    }
   ],
   "source": [
    "req_seq = \"PPPPNNPPPNPPNPN\"\n",
    "req_seq = \"PPPPNNPPPNPPNPN\"\n",
    "\n",
    "sum(calc_prob(x, req_seq) for x in range(1, N+1)) / N"
   ]
  },
  {
   "cell_type": "code",
   "execution_count": null,
   "metadata": {},
   "outputs": [],
   "source": []
  }
 ],
 "metadata": {
  "kernelspec": {
   "display_name": "Python 3",
   "language": "python",
   "name": "python3"
  },
  "language_info": {
   "codemirror_mode": {
    "name": "ipython",
    "version": 3
   },
   "file_extension": ".py",
   "mimetype": "text/x-python",
   "name": "python",
   "nbconvert_exporter": "python",
   "pygments_lexer": "ipython3",
   "version": "3.10.12"
  }
 },
 "nbformat": 4,
 "nbformat_minor": 2
}

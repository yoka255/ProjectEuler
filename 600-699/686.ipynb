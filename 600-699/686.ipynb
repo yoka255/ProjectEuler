{
 "cells": [
  {
   "cell_type": "code",
   "execution_count": 62,
   "metadata": {},
   "outputs": [],
   "source": [
    "from math import log2, log10\n",
    "\n",
    "\n",
    "def leading_digs(n:int, k:int) -> str:\n",
    "    d = int(n * log10(2)) + 1\n",
    "    x = (2 ** (n - log2(10) * (d-k)))\n",
    "    if x - int(x) > 1 - 10 ** (-8):\n",
    "        return str(int(x) + 1)\n",
    "    return str(int(x))\n",
    "\n",
    "\n",
    "def p(s: str, k: int) -> int:\n",
    "    n = 0\n",
    "    while k:\n",
    "        n += 1\n",
    "        if str(2 ** n).startswith(s):\n",
    "            k -= 1\n",
    "    return n\n",
    "\n",
    "def fast_p(s: str, k: int) -> int:\n",
    "    n = 90 - 196\n",
    "    a, b = 196, 289\n",
    "    while k:\n",
    "        if leading_digs(n + a, len(s)) == s:\n",
    "            n += a\n",
    "            k -= 1\n",
    "            continue\n",
    "        if leading_digs(n + b, len(s)) == s:\n",
    "            n += b\n",
    "            k -= 1\n",
    "            continue\n",
    "        if leading_digs(n + a + b, len(s)) == s:\n",
    "            n += a + b\n",
    "            k -= 1\n",
    "            continue\n",
    "    return n"
   ]
  },
  {
   "cell_type": "code",
   "execution_count": 64,
   "metadata": {},
   "outputs": [
    {
     "data": {
      "text/plain": [
       "193060223"
      ]
     },
     "execution_count": 64,
     "metadata": {},
     "output_type": "execute_result"
    }
   ],
   "source": [
    "fast_p(\"123\", 678910)"
   ]
  },
  {
   "cell_type": "code",
   "execution_count": null,
   "metadata": {},
   "outputs": [],
   "source": []
  }
 ],
 "metadata": {
  "kernelspec": {
   "display_name": "Python 3",
   "language": "python",
   "name": "python3"
  },
  "language_info": {
   "codemirror_mode": {
    "name": "ipython",
    "version": 3
   },
   "file_extension": ".py",
   "mimetype": "text/x-python",
   "name": "python",
   "nbconvert_exporter": "python",
   "pygments_lexer": "ipython3",
   "version": "3.10.12"
  }
 },
 "nbformat": 4,
 "nbformat_minor": 2
}

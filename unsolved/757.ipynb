{
 "cells": [
  {
   "cell_type": "code",
   "execution_count": 3,
   "metadata": {},
   "outputs": [],
   "source": [
    "def stealthy(n: int) -> bool:\n",
    "    prev_sum = -1\n",
    "    for k in range(1, int(n ** 0.5) + 1):\n",
    "        if n % k == 0:\n",
    "            if prev_sum == k + n // k + 1:\n",
    "                return True\n",
    "            prev_sum = k + n // k\n",
    "    return False"
   ]
  },
  {
   "cell_type": "code",
   "execution_count": 4,
   "metadata": {},
   "outputs": [
    {
     "name": "stdout",
     "output_type": "stream",
     "text": [
      "True\n",
      "False\n"
     ]
    }
   ],
   "source": [
    "print(stealthy(36))\n",
    "print(stealthy(35))"
   ]
  },
  {
   "cell_type": "code",
   "execution_count": 5,
   "metadata": {},
   "outputs": [
    {
     "name": "stderr",
     "output_type": "stream",
     "text": [
      "100%|██████████| 999999/999999 [00:14<00:00, 70511.59it/s] \n"
     ]
    }
   ],
   "source": [
    "from tqdm import tqdm\n",
    "\n",
    "res = []\n",
    "\n",
    "for x in tqdm(range(2, 10 ** 6 + 1)):\n",
    "    if stealthy(x):\n",
    "        res += [x]"
   ]
  },
  {
   "cell_type": "code",
   "execution_count": 7,
   "metadata": {},
   "outputs": [
    {
     "data": {
      "text/plain": [
       "[4,\n",
       " 12,\n",
       " 24,\n",
       " 36,\n",
       " 40,\n",
       " 60,\n",
       " 72,\n",
       " 84,\n",
       " 112,\n",
       " 120,\n",
       " 144,\n",
       " 180,\n",
       " 220,\n",
       " 240,\n",
       " 252,\n",
       " 264,\n",
       " 312,\n",
       " 336,\n",
       " 360,\n",
       " 364]"
      ]
     },
     "execution_count": 7,
     "metadata": {},
     "output_type": "execute_result"
    }
   ],
   "source": [
    "res[:20]"
   ]
  },
  {
   "cell_type": "code",
   "execution_count": 8,
   "metadata": {},
   "outputs": [
    {
     "data": {
      "text/plain": [
       "[172380,\n",
       " 172480,\n",
       " 173052,\n",
       " 173460,\n",
       " 174240,\n",
       " 174420,\n",
       " 174640,\n",
       " 174720,\n",
       " 174840,\n",
       " 175032,\n",
       " 175560,\n",
       " 175824,\n",
       " 176400,\n",
       " 176472,\n",
       " 176800,\n",
       " 177012,\n",
       " 177144,\n",
       " 178200,\n",
       " 178204,\n",
       " 178536]"
      ]
     },
     "execution_count": 8,
     "metadata": {},
     "output_type": "execute_result"
    }
   ],
   "source": [
    "res[1000:1020]"
   ]
  },
  {
   "cell_type": "code",
   "execution_count": null,
   "metadata": {},
   "outputs": [],
   "source": []
  }
 ],
 "metadata": {
  "kernelspec": {
   "display_name": "Python 3",
   "language": "python",
   "name": "python3"
  },
  "language_info": {
   "codemirror_mode": {
    "name": "ipython",
    "version": 3
   },
   "file_extension": ".py",
   "mimetype": "text/x-python",
   "name": "python",
   "nbconvert_exporter": "python",
   "pygments_lexer": "ipython3",
   "version": "3.10.12"
  }
 },
 "nbformat": 4,
 "nbformat_minor": 2
}

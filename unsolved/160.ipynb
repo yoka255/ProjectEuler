{
 "cells": [
  {
   "cell_type": "code",
   "execution_count": 3,
   "metadata": {},
   "outputs": [],
   "source": [
    "from euler import factorial_padic\n",
    "from tqdm import tqdm\n",
    "\n",
    "MOD = 10 ** 5\n",
    "\n",
    "\n",
    "def special_f() -> int:\n",
    "    res = 1\n",
    "    N = MOD\n",
    "    count_10 = factorial_padic(N, 5) - (N//10 + factorial_padic(N // 10, 5))\n",
    "    count_5 = count_10\n",
    "    count_2 = count_10\n",
    "    for k in range(1, N+1):\n",
    "        if k % 10 == 0:\n",
    "            continue\n",
    "        while count_5 > 0 and k % 5 == 0:\n",
    "            k //= 5\n",
    "            count_5 -= 1\n",
    "        while count_2 > 0 and k % 2 == 0:\n",
    "            k //= 2\n",
    "            count_2 -= 1\n",
    "        res = (res * k) % MOD\n",
    "    return res\n",
    "\n",
    "SMALL_FACT = special_f()\n",
    "\n",
    "def small_f(N: int) -> int:\n",
    "    res = 1\n",
    "    mod = 10 ** 5\n",
    "    count_5 = factorial_padic(N, 5)\n",
    "    count_2 = factorial_padic(N, 5)\n",
    "    for k in tqdm(range(1, N+1)):\n",
    "        while count_5 > 0 and k % 5 == 0:\n",
    "            k //= 5\n",
    "            count_5 -= 1\n",
    "        while count_2 > 0 and k % 2 == 0:\n",
    "            k //= 2\n",
    "            count_2 -= 1\n",
    "        res = (res * k) % mod\n",
    "    return res\n",
    "\n",
    "\n",
    "def f(N: int) -> int:\n",
    "    if N <= 10 ** 5:\n",
    "        return small_f(N)\n",
    "    return (f(N // 10) * pow(SMALL_FACT, N // MOD, MOD)) % MOD\n"
   ]
  },
  {
   "cell_type": "code",
   "execution_count": 5,
   "metadata": {},
   "outputs": [],
   "source": [
    "from functools import lru_cache\n",
    "\n",
    "\n",
    "@lru_cache(maxsize=None)\n",
    "def factorial(n: int) -> int:\n",
    "    if n == 0:\n",
    "        return 1\n",
    "    return n * factorial(n-1)\n",
    "\n",
    "\n",
    "def N_factorial_divided_by_p(N: int, k: int, p: int, mod: int) -> int:\n",
    "    if N == 0:\n",
    "        return 1\n",
    "    if N // p < k:\n",
    "        raise Exception\n",
    "    res = 1\n",
    "    res *= pow(factorial(p-1), N // p, mod)\n",
    "    res *= factorial(N % p)\n",
    "    res *= N_factorial_divided_by_p(N // p, k - N // p, p, mod)\n",
    "    res %= mod\n",
    "    return res\n"
   ]
  },
  {
   "cell_type": "code",
   "execution_count": 13,
   "metadata": {},
   "outputs": [
    {
     "data": {
      "text/plain": [
       "12"
      ]
     },
     "execution_count": 13,
     "metadata": {},
     "output_type": "execute_result"
    }
   ],
   "source": [
    "N = 6\n",
    "k = factorial_padic(N, 5)\n",
    "\n",
    "x = N_factorial_divided_by_p(N, k, 5, 5 ** 5)\n",
    "x = (x * pow(2, -k, 5 ** 5)) % (5 ** 5)\n",
    "x"
   ]
  },
  {
   "cell_type": "code",
   "execution_count": 12,
   "metadata": {},
   "outputs": [
    {
     "name": "stdout",
     "output_type": "stream",
     "text": [
      "288\n",
      "1913\n"
     ]
    }
   ],
   "source": [
    "print(x)\n",
    "print(36288 % (5 ** 5))"
   ]
  },
  {
   "cell_type": "code",
   "execution_count": null,
   "metadata": {},
   "outputs": [],
   "source": []
  }
 ],
 "metadata": {
  "kernelspec": {
   "display_name": "Python 3",
   "language": "python",
   "name": "python3"
  },
  "language_info": {
   "codemirror_mode": {
    "name": "ipython",
    "version": 3
   },
   "file_extension": ".py",
   "mimetype": "text/x-python",
   "name": "python",
   "nbconvert_exporter": "python",
   "pygments_lexer": "ipython3",
   "version": "3.10.12"
  }
 },
 "nbformat": 4,
 "nbformat_minor": 2
}

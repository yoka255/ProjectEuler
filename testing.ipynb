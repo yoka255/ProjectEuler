{
 "cells": [
  {
   "cell_type": "code",
   "execution_count": 4,
   "metadata": {},
   "outputs": [],
   "source": [
    "nums = \"\"\"2\n",
    "5\n",
    "21\n",
    "42\n",
    "152\n",
    "296\n",
    "1050\n",
    "2037\n",
    "7205\n",
    "13970\n",
    "49392\n",
    "95760\n",
    "338546\n",
    "656357\n",
    "2320437\n",
    "4498746\n",
    "15904520\n",
    "30834872\n",
    "109011210\n",
    "211345365\n",
    "747173957\n",
    "1448582690\n",
    "5121206496\n",
    "9928733472\n",
    "35101271522\n",
    "68052551621\n",
    "240587694165\n",
    "466439127882\n",
    "1649012587640\n",
    "3197021343560\"\"\"\n",
    "nums = nums.split()\n",
    "nums = list(map(int, nums))\n"
   ]
  },
  {
   "cell_type": "code",
   "execution_count": 5,
   "metadata": {},
   "outputs": [
    {
     "name": "stdout",
     "output_type": "stream",
     "text": [
      "30\n",
      "5673835352990\n"
     ]
    }
   ],
   "source": [
    "print(len(nums))\n",
    "print(sum(nums))"
   ]
  }
 ],
 "metadata": {
  "kernelspec": {
   "display_name": "Python 3",
   "language": "python",
   "name": "python3"
  },
  "language_info": {
   "codemirror_mode": {
    "name": "ipython",
    "version": 3
   },
   "file_extension": ".py",
   "mimetype": "text/x-python",
   "name": "python",
   "nbconvert_exporter": "python",
   "pygments_lexer": "ipython3",
   "version": "3.10.12"
  }
 },
 "nbformat": 4,
 "nbformat_minor": 2
}

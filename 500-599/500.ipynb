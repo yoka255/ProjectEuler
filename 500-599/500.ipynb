{
 "cells": [
  {
   "cell_type": "code",
   "execution_count": 11,
   "metadata": {},
   "outputs": [
    {
     "name": "stdout",
     "output_type": "stream",
     "text": [
      "Sieving\n"
     ]
    },
    {
     "name": "stderr",
     "output_type": "stream",
     "text": [
      "100%|██████████| 9999998/9999998 [00:01<00:00, 6078512.59it/s] \n"
     ]
    },
    {
     "name": "stdout",
     "output_type": "stream",
     "text": [
      "Done sieving\n"
     ]
    }
   ],
   "source": [
    "from euler import get_all_primes\n",
    "\n",
    "primes = get_all_primes(10 ** 7)"
   ]
  },
  {
   "cell_type": "code",
   "execution_count": 4,
   "metadata": {},
   "outputs": [],
   "source": [
    "MOD = 500500507"
   ]
  },
  {
   "cell_type": "code",
   "execution_count": 12,
   "metadata": {},
   "outputs": [],
   "source": [
    "from collections import defaultdict\n",
    "from heapq import heappush, heappop\n",
    "from euler import is_prime\n",
    "\n",
    "res = 1\n",
    "divs = 0\n",
    "queue: list[int] = [2]\n",
    "muls = defaultdict(int)\n",
    "primes_index = 0\n",
    "\n",
    "while divs < 500500:\n",
    "    next_num = heappop(queue)\n",
    "    # print(next_num)\n",
    "    # print(queue)\n",
    "    res = (res * next_num) % MOD\n",
    "    divs += 1\n",
    "    if is_prime(next_num):\n",
    "        primes_index += 1\n",
    "        heappush(queue, primes[primes_index])\n",
    "    heappush(queue, next_num ** 2)\n"
   ]
  },
  {
   "cell_type": "code",
   "execution_count": 13,
   "metadata": {},
   "outputs": [
    {
     "data": {
      "text/plain": [
       "35407281"
      ]
     },
     "execution_count": 13,
     "metadata": {},
     "output_type": "execute_result"
    }
   ],
   "source": [
    "res"
   ]
  },
  {
   "cell_type": "code",
   "execution_count": null,
   "metadata": {},
   "outputs": [],
   "source": []
  }
 ],
 "metadata": {
  "kernelspec": {
   "display_name": "Python 3",
   "language": "python",
   "name": "python3"
  },
  "language_info": {
   "codemirror_mode": {
    "name": "ipython",
    "version": 3
   },
   "file_extension": ".py",
   "mimetype": "text/x-python",
   "name": "python",
   "nbconvert_exporter": "python",
   "pygments_lexer": "ipython3",
   "version": "3.10.12"
  }
 },
 "nbformat": 4,
 "nbformat_minor": 2
}

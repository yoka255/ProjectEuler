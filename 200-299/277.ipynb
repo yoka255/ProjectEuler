{
 "cells": [
  {
   "cell_type": "code",
   "execution_count": 58,
   "metadata": {},
   "outputs": [],
   "source": [
    "from typing import Tuple\n",
    "\n",
    "def next_val(a: int) -> Tuple[int, str]:\n",
    "    if a % 3 == 0:\n",
    "        return a // 3, \"D\"\n",
    "    elif a % 3 == 1:\n",
    "        return (4 * a + 2) // 3, \"U\"\n",
    "    else:\n",
    "        return (2 * a - 1) // 3, \"d\"\n",
    "\n",
    "\n",
    "def reverse(a: float, step: str) -> float:\n",
    "    if step == \"D\":\n",
    "        return 3 * a\n",
    "    if step == \"U\":\n",
    "        return (3 * a - 2) / 4\n",
    "    else: # step == \"d\"\n",
    "        return (3 * a + 1) / 2\n",
    "\n",
    "\n",
    "def calc_mod(sequence: str) -> Tuple[int, int]:\n",
    "    remainder, mod = 0, 1\n",
    "    for step in sequence:\n",
    "        if step == \"D\":\n",
    "            remainder = (pow(3, -1, mod) * remainder) % mod\n",
    "        elif step == \"U\":\n",
    "            mod *= 4\n",
    "            remainder = (pow(3, -1, mod) * (4 * remainder + 2)) % mod\n",
    "        else:\n",
    "            mod *= 2\n",
    "            remainder = (pow(3, -1, mod) * (2 * remainder - 1)) % mod\n",
    "    return remainder, mod\n",
    "\n",
    "\n",
    "def reverse_sequence(a: float, sequence: str) -> float:\n",
    "    for c in sequence[::-1]:\n",
    "        a = reverse(a, c)\n",
    "    return a\n"
   ]
  },
  {
   "cell_type": "code",
   "execution_count": 62,
   "metadata": {},
   "outputs": [
    {
     "name": "stdout",
     "output_type": "stream",
     "text": [
      "96521732651065.0\n",
      "302412864745714.0\n",
      "508303996840363.0\n",
      "714195128935012.0\n",
      "920086261029661.0\n",
      "1125977393124310.0\n"
     ]
    }
   ],
   "source": [
    "from euler import chinese_remainder\n",
    "\n",
    "target = \"UDDDUdddDDUDDddDdDddDDUDDdUUDd\"\n",
    "\n",
    "rem, mod = calc_mod(target)\n",
    "\n",
    "y = [reverse_sequence(x, target) for x in [0, 1]]\n",
    "b = y[0]\n",
    "a = y[1] - y[0]\n",
    "\n",
    "for t in range(10):\n",
    "    y = a * rem + a * mod * t + b\n",
    "    print(y)\n",
    "    if y > 10 ** 15:\n",
    "        break"
   ]
  },
  {
   "cell_type": "code",
   "execution_count": 53,
   "metadata": {},
   "outputs": [
    {
     "data": {
      "text/plain": [
       "49088271239229240734836"
      ]
     },
     "execution_count": 53,
     "metadata": {},
     "output_type": "execute_result"
    }
   ],
   "source": [
    "min_val = 10 ** 15\n",
    "\n",
    "x = min_val + (rem - min_val) % mod\n",
    "reverse_sequence(x, target)"
   ]
  },
  {
   "cell_type": "code",
   "execution_count": 55,
   "metadata": {},
   "outputs": [
    {
     "data": {
      "text/plain": [
       "231"
      ]
     },
     "execution_count": 55,
     "metadata": {},
     "output_type": "execute_result"
    }
   ],
   "source": [
    "reverse_sequence(1, \"DdDddUUdDD\")"
   ]
  },
  {
   "cell_type": "markdown",
   "metadata": {},
   "source": [
    "Notice that the function $x\\to \\text{reverse}(x, t)$ for some constant string $t$ is a linear function, thus we can calculate it by plugging in two different values.\n",
    "\n",
    "Denote the function as $y = a \\cdot x + b$. We want the smallest $y > 10 ^ {15}$ such that $x \\in \\mathbb{N}$, thus we want $y\\equiv b \\mod a$\n",
    "\n",
    "We also need $x$ to allow for all moves, meaning that in every part we will have an integer. Using CRT, we get that we want to find a minimal $y > 10 ^ {15}$ s.t $y \\equiv k \\mod m$ for some $m, k$.\n",
    "\n",
    "Take $y = 10 ^ {15} + \\left(k - 10^{15} \\right) \\% m$"
   ]
  }
 ],
 "metadata": {
  "kernelspec": {
   "display_name": "Python 3",
   "language": "python",
   "name": "python3"
  },
  "language_info": {
   "codemirror_mode": {
    "name": "ipython",
    "version": 3
   },
   "file_extension": ".py",
   "mimetype": "text/x-python",
   "name": "python",
   "nbconvert_exporter": "python",
   "pygments_lexer": "ipython3",
   "version": "3.10.12"
  }
 },
 "nbformat": 4,
 "nbformat_minor": 2
}

{
 "cells": [
  {
   "cell_type": "code",
   "execution_count": 13,
   "metadata": {},
   "outputs": [],
   "source": [
    "from math import comb\n",
    "\n",
    "def win_chance(min_flips: int, tot_flips: int) -> float:\n",
    "    res = 0\n",
    "    for k in range(min_flips, tot_flips + 1):\n",
    "        res += comb(tot_flips, k)\n",
    "    return res / (2 ** tot_flips)\n",
    "\n",
    "\n",
    "def can_bet(min_flips: int, tot_flips: int, lower_limit: float) -> bool:\n",
    "    max_point = (3 * min_flips - tot_flips) / (2 * tot_flips)\n",
    "    if max_point < 0:\n",
    "        return False\n",
    "    if (1 + 2 * max_point) ** min_flips * (1 - max_point) ** (tot_flips - min_flips) < lower_limit:\n",
    "        return False\n",
    "    return True"
   ]
  },
  {
   "cell_type": "code",
   "execution_count": 14,
   "metadata": {},
   "outputs": [
    {
     "name": "stdout",
     "output_type": "stream",
     "text": [
      "432\n",
      "0.999992836187\n"
     ]
    }
   ],
   "source": [
    "M = 1000\n",
    "min_money = 10 ** 9\n",
    "best_chance = 0\n",
    "best_num = -1\n",
    "\n",
    "for r in range(M):\n",
    "    if can_bet(r, M, min_money):\n",
    "        print(r)\n",
    "        print(round(win_chance(r, M), 12))\n",
    "        break"
   ]
  },
  {
   "cell_type": "code",
   "execution_count": 9,
   "metadata": {},
   "outputs": [
    {
     "name": "stdout",
     "output_type": "stream",
     "text": [
      "0.65625\n"
     ]
    }
   ],
   "source": [
    "print(win_chance(3, 6))"
   ]
  },
  {
   "cell_type": "code",
   "execution_count": null,
   "metadata": {},
   "outputs": [],
   "source": []
  }
 ],
 "metadata": {
  "kernelspec": {
   "display_name": "Python 3",
   "language": "python",
   "name": "python3"
  },
  "language_info": {
   "codemirror_mode": {
    "name": "ipython",
    "version": 3
   },
   "file_extension": ".py",
   "mimetype": "text/x-python",
   "name": "python",
   "nbconvert_exporter": "python",
   "pygments_lexer": "ipython3",
   "version": "3.10.12"
  }
 },
 "nbformat": 4,
 "nbformat_minor": 2
}

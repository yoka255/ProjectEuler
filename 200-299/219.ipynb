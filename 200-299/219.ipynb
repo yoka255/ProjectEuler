{
 "cells": [
  {
   "cell_type": "code",
   "execution_count": 4,
   "metadata": {},
   "outputs": [],
   "source": [
    "from algorithms import Heap\n",
    "\n",
    "string_list = Heap([(0, \"\")])\n",
    "\n",
    "while len(string_list) < 6:\n",
    "    x, s = string_list.pop()\n",
    "    string_list.push((x + 1, s + \"0\"))\n",
    "    string_list.push((x + 4, s + \"1\"))"
   ]
  },
  {
   "cell_type": "code",
   "execution_count": 16,
   "metadata": {},
   "outputs": [],
   "source": [
    "from itertools import count\n",
    "\n",
    "N = 10 ** 9\n",
    "total_amount = 1\n",
    "total_cost = 0\n",
    "amount = [0] * (10 ** 7)\n",
    "amount[0] = 1\n",
    "\n",
    "for cur_price in count():\n",
    "    if total_amount == N:\n",
    "        break\n",
    "\n",
    "    changed = min(amount[cur_price], N - total_amount)\n",
    "\n",
    "    total_amount += changed\n",
    "    total_cost += changed * (cur_price + 5)\n",
    "\n",
    "    amount[cur_price] -= changed\n",
    "    amount[cur_price + 1] += changed\n",
    "    amount[cur_price + 4] += changed"
   ]
  },
  {
   "cell_type": "code",
   "execution_count": 17,
   "metadata": {},
   "outputs": [
    {
     "data": {
      "text/plain": [
       "64564225042"
      ]
     },
     "execution_count": 17,
     "metadata": {},
     "output_type": "execute_result"
    }
   ],
   "source": [
    "total_cost"
   ]
  },
  {
   "cell_type": "code",
   "execution_count": 15,
   "metadata": {},
   "outputs": [
    {
     "data": {
      "text/plain": [
       "[0, 0, 0, 0, 1, 2, 1, 1, 1, 0, 0, 0, 0, 0, 0]"
      ]
     },
     "execution_count": 15,
     "metadata": {},
     "output_type": "execute_result"
    }
   ],
   "source": [
    "amount[:15]"
   ]
  },
  {
   "cell_type": "code",
   "execution_count": null,
   "metadata": {},
   "outputs": [],
   "source": []
  }
 ],
 "metadata": {
  "kernelspec": {
   "display_name": "Python 3",
   "language": "python",
   "name": "python3"
  },
  "language_info": {
   "codemirror_mode": {
    "name": "ipython",
    "version": 3
   },
   "file_extension": ".py",
   "mimetype": "text/x-python",
   "name": "python",
   "nbconvert_exporter": "python",
   "pygments_lexer": "ipython3",
   "version": "3.10.12"
  }
 },
 "nbformat": 4,
 "nbformat_minor": 2
}

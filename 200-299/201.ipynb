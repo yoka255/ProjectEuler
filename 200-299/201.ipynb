{
 "cells": [
  {
   "cell_type": "code",
   "execution_count": 4,
   "id": "60ca2c06",
   "metadata": {},
   "outputs": [
    {
     "name": "stderr",
     "output_type": "stream",
     "text": [
      "100%|██████████| 100/100 [01:29<00:00,  1.12it/s]\n"
     ]
    },
    {
     "data": {
      "text/plain": [
       "115039000"
      ]
     },
     "execution_count": 4,
     "metadata": {},
     "output_type": "execute_result"
    }
   ],
   "source": [
    "from typing import List\n",
    "from tqdm import tqdm\n",
    "\n",
    "def sum_unique_sums(a: List[int], size: int) -> int:\n",
    "    a = sorted(a)\n",
    "    S = sum(a)\n",
    "    dp = [[0] * (S + 1) for _ in range(size + 1)]\n",
    "    dp[0][0] = 1\n",
    "    for num in tqdm(a):\n",
    "        for k in range(size, 0, -1):\n",
    "            for s in range(S + 1):\n",
    "                # if s - num < 0:\n",
    "                #     break\n",
    "                dp[k][s] += dp[k-1][s - num]\n",
    "    \n",
    "    # print(dp)\n",
    "    return sum(s for s in range(S + 1) if dp[size][s] == 1)\n",
    "                \n",
    "A = [i ** 2 for i in range(1, 101)]\n",
    "k = 50\n",
    "\n",
    "# sum_unique_sums([1, 3, 6, 8, 10, 11], 3)\n",
    "sum_unique_sums(A, k)"
   ]
  }
 ],
 "metadata": {
  "kernelspec": {
   "display_name": "Python 3",
   "language": "python",
   "name": "python3"
  },
  "language_info": {
   "codemirror_mode": {
    "name": "ipython",
    "version": 3
   },
   "file_extension": ".py",
   "mimetype": "text/x-python",
   "name": "python",
   "nbconvert_exporter": "python",
   "pygments_lexer": "ipython3",
   "version": "3.10.12"
  }
 },
 "nbformat": 4,
 "nbformat_minor": 5
}

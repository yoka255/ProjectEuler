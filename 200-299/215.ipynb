{
 "cells": [
  {
   "cell_type": "code",
   "execution_count": 1,
   "metadata": {},
   "outputs": [],
   "source": [
    "from typing import List, Tuple, Dict\n",
    "\n",
    "next_row_opts: List[List[Tuple]] = [[(0,), (1,)]]\n",
    "\n",
    "for _ in range(10):\n",
    "    next_row_opts.append([])\n",
    "    for row in next_row_opts[-2]:\n",
    "        if row[-1] == 0:\n",
    "            next_row_opts[-1].append(row + (1,))\n",
    "        next_row_opts[-1].append(row + (0,))\n",
    "\n",
    "next_row_opts = [[()]] + next_row_opts"
   ]
  },
  {
   "cell_type": "code",
   "execution_count": 20,
   "metadata": {},
   "outputs": [],
   "source": [
    "from collections import defaultdict, deque\n",
    "from itertools import product\n",
    "\n",
    "W: Dict[Tuple[int, Tuple, Tuple], int] = defaultdict(int)\n",
    "seen = set()\n",
    "\n",
    "width = 32\n",
    "height = 10\n",
    "\n",
    "initial_list = []\n",
    "\n",
    "for col in next_row_opts[height]:\n",
    "    initial_list.append((2, (0,) * height, col))\n",
    "    W[(2, (0,) * height, col)] = 1\n",
    "\n",
    "bfs = deque(initial_list)"
   ]
  },
  {
   "cell_type": "code",
   "execution_count": 21,
   "metadata": {},
   "outputs": [
    {
     "name": "stdout",
     "output_type": "stream",
     "text": [
      "806844323190414\n"
     ]
    }
   ],
   "source": [
    "res = 0\n",
    "\n",
    "while bfs:\n",
    "    cur_width, prev_col, col = bfs.popleft()\n",
    "    # print(cur_width, prev_col, col)\n",
    "    if (cur_width, prev_col, col) in seen:\n",
    "        continue\n",
    "\n",
    "    seen.add((cur_width, prev_col, col))\n",
    "    \n",
    "    if cur_width == width - 1 and sum(col) == 0:\n",
    "        res += W[(cur_width, prev_col, col)]\n",
    "    \n",
    "    if cur_width == width - 1:\n",
    "        continue\n",
    "\n",
    "    for next_col in next_row_opts[height]:\n",
    "        if max(x + y for x, y in zip(col, next_col)) < 2 and \\\n",
    "            min(x + y + z for x, y, z in zip(prev_col, col, next_col)) > 0:\n",
    "            W[(cur_width + 1, col, next_col)] += W[(cur_width, prev_col, col)]\n",
    "            bfs.append((cur_width + 1, col, next_col))\n",
    "\n",
    "print(res)"
   ]
  },
  {
   "cell_type": "code",
   "execution_count": null,
   "metadata": {},
   "outputs": [],
   "source": []
  }
 ],
 "metadata": {
  "kernelspec": {
   "display_name": "Python 3",
   "language": "python",
   "name": "python3"
  },
  "language_info": {
   "codemirror_mode": {
    "name": "ipython",
    "version": 3
   },
   "file_extension": ".py",
   "mimetype": "text/x-python",
   "name": "python",
   "nbconvert_exporter": "python",
   "pygments_lexer": "ipython3",
   "version": "3.8.10"
  }
 },
 "nbformat": 4,
 "nbformat_minor": 2
}

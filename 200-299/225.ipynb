{
 "cells": [
  {
   "cell_type": "code",
   "execution_count": 2,
   "metadata": {},
   "outputs": [],
   "source": [
    "from functools import cache\n",
    "\n",
    "\n",
    "@cache\n",
    "def T(n):\n",
    "    if n < 4:\n",
    "        return 1\n",
    "    return T(n-1) + T(n-2) + T(n-3)"
   ]
  },
  {
   "cell_type": "code",
   "execution_count": 3,
   "metadata": {},
   "outputs": [],
   "source": [
    "mod = 27\n",
    "results = []\n",
    "\n",
    "while len(results) < 124:\n",
    "    seen = set()\n",
    "    a, b, c = 1, 1, 1\n",
    "    while True:\n",
    "        if (a, b, c) in seen:\n",
    "            results.append(mod)\n",
    "            break\n",
    "        seen.add((a, b, c))\n",
    "        if c == 0:\n",
    "            break\n",
    "\n",
    "        a, b, c = b, c, (a + b + c) % mod\n",
    "    mod += 2"
   ]
  },
  {
   "cell_type": "code",
   "execution_count": 4,
   "metadata": {},
   "outputs": [
    {
     "name": "stdout",
     "output_type": "stream",
     "text": [
      "2009\n"
     ]
    }
   ],
   "source": [
    "print(results[-1])"
   ]
  },
  {
   "cell_type": "code",
   "execution_count": null,
   "metadata": {},
   "outputs": [],
   "source": []
  }
 ],
 "metadata": {
  "kernelspec": {
   "display_name": "Python 3",
   "language": "python",
   "name": "python3"
  },
  "language_info": {
   "codemirror_mode": {
    "name": "ipython",
    "version": 3
   },
   "file_extension": ".py",
   "mimetype": "text/x-python",
   "name": "python",
   "nbconvert_exporter": "python",
   "pygments_lexer": "ipython3",
   "version": "3.10.12"
  }
 },
 "nbformat": 4,
 "nbformat_minor": 2
}

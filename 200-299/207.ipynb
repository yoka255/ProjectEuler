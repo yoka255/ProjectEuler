{
 "cells": [
  {
   "cell_type": "markdown",
   "metadata": {},
   "source": [
    "if $4 ^ t = 2 ^ t + k$, then from the quadratic formula we get\n",
    "\n",
    "$$ t = \\log_2(1 + \\sqrt{1 + 4k}) - 1 $$"
   ]
  },
  {
   "cell_type": "code",
   "execution_count": 1,
   "metadata": {},
   "outputs": [],
   "source": [
    "from math import log2\n",
    "\n",
    "def f(k: int) -> float:\n",
    "    return log2(1 + (1 + 4 * k) ** 0.5) - 1"
   ]
  },
  {
   "cell_type": "markdown",
   "metadata": {},
   "source": [
    "We then get\n",
    "\n",
    "$$ 2 ^ t = \\frac{1}{2} \\cdot (1 + \\sqrt{1 + 4k})$$\n",
    "\n",
    "thus the partition is an integer partition iff $\\sqrt{1+4k} \\in \\mathbb{Z}$"
   ]
  },
  {
   "cell_type": "code",
   "execution_count": 7,
   "metadata": {},
   "outputs": [
    {
     "name": "stdout",
     "output_type": "stream",
     "text": [
      "1 0 0.0 1.0\n",
      "3 2 1.0 2.0\n",
      "5 6 1.584962500721156 3.0\n",
      "7 12 2.0 4.0\n",
      "9 20 2.321928094887362 4.999999999999999\n",
      "11 30 2.584962500721156 6.0\n",
      "13 42 2.807354922057604 7.0\n",
      "15 56 3.0 8.0\n",
      "17 72 3.169925001442312 8.999999999999998\n",
      "19 90 3.3219280948873626 10.000000000000002\n",
      "21 110 3.4594316186372973 11.0\n",
      "23 132 3.584962500721156 12.0\n",
      "25 156 3.7004397181410917 12.999999999999996\n",
      "27 182 3.8073549220576037 13.999999999999996\n",
      "29 210 3.9068905956085187 15.000000000000002\n",
      "31 240 4.0 16.0\n",
      "33 272 4.087462841250339 16.999999999999996\n",
      "35 306 4.169925001442312 17.999999999999996\n",
      "37 342 4.247927513443585 18.999999999999996\n",
      "39 380 4.321928094887363 20.000000000000004\n",
      "41 420 4.392317422778761 21.000000000000007\n",
      "43 462 4.459431618637297 22.0\n",
      "45 506 4.523561956057013 23.000000000000004\n",
      "47 552 4.584962500721156 24.0\n",
      "49 600 4.643856189774724 24.999999999999993\n"
     ]
    }
   ],
   "source": [
    "for x in range(1, 50, 2):\n",
    "    k = (x ** 2 - 1) // 4\n",
    "    print(x, k, f(k), 2 ** f(k))"
   ]
  },
  {
   "cell_type": "code",
   "execution_count": 10,
   "metadata": {},
   "outputs": [
    {
     "name": "stdout",
     "output_type": "stream",
     "text": [
      "44043947822\n"
     ]
    }
   ],
   "source": [
    "good = 1\n",
    "bad = 1\n",
    "x = 3\n",
    "while good / bad >= 1/12345:\n",
    "    x += 2\n",
    "    bad += 1\n",
    "    if (x + 1).bit_count() == 1:\n",
    "        good += 1\n",
    "    \n",
    "\n",
    "print((x ** 2 - 1) // 4)"
   ]
  },
  {
   "cell_type": "code",
   "execution_count": null,
   "metadata": {},
   "outputs": [],
   "source": []
  }
 ],
 "metadata": {
  "kernelspec": {
   "display_name": "Python 3",
   "language": "python",
   "name": "python3"
  },
  "language_info": {
   "codemirror_mode": {
    "name": "ipython",
    "version": 3
   },
   "file_extension": ".py",
   "mimetype": "text/x-python",
   "name": "python",
   "nbconvert_exporter": "python",
   "pygments_lexer": "ipython3",
   "version": "3.10.12"
  }
 },
 "nbformat": 4,
 "nbformat_minor": 2
}

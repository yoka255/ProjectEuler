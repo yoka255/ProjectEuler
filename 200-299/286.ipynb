{
 "cells": [
  {
   "cell_type": "markdown",
   "metadata": {},
   "source": [
    "The probability of scoring exactly 20 points is\n",
    "\n",
    "$$0.02 = \\sum_{I\\subset[50],|I|=20}\\left(\\prod_{x\\in I}\\left(1-\\frac{x}{q}\\right)\\cdot \\prod_{x\\not \\in I}\\frac{x}{q}\\right)$$\n",
    "$$0.02 = q^{-50}\\sum_{I\\subset[50],|I|=20}\\left(\\prod_{x\\in I}\\left(q-x\\right)\\cdot \\prod_{x\\not \\in I}x\\right)$$\n",
    "\n",
    "This is very difficult to work with. Probably use dp?"
   ]
  },
  {
   "cell_type": "code",
   "execution_count": 2,
   "metadata": {},
   "outputs": [],
   "source": [
    "def calc_prob(q: float, shot_count: int, target: int) -> float:\n",
    "    prob = [[0.] * (shot_count + 1) for _ in range(shot_count + 1)]\n",
    "\n",
    "    prob[0][0] = 1\n",
    "\n",
    "    for x in range(shot_count):\n",
    "        for k in range(shot_count):\n",
    "            prob[x + 1][k] += prob[x][k] * ((x + 1) / q)\n",
    "            prob[x + 1][k + 1] += prob[x][k] * (1 - (x + 1) / q)\n",
    "\n",
    "    return prob[shot_count][target]"
   ]
  },
  {
   "cell_type": "code",
   "execution_count": 3,
   "metadata": {},
   "outputs": [
    {
     "data": {
      "text/plain": [
       "5.272535477591907e-06"
      ]
     },
     "execution_count": 3,
     "metadata": {},
     "output_type": "execute_result"
    }
   ],
   "source": [
    "calc_prob(80, 50, 20)"
   ]
  },
  {
   "cell_type": "code",
   "execution_count": 4,
   "metadata": {},
   "outputs": [
    {
     "data": {
      "image/png": "[encoded data removed]",
      "text/plain": [
       "<Figure size 640x480 with 1 Axes>"
      ]
     },
     "metadata": {},
     "output_type": "display_data"
    }
   ],
   "source": [
    "import matplotlib.pyplot as plt\n",
    "import numpy as np\n",
    "\n",
    "SHOTS = 50\n",
    "TARGET = 20\n",
    "\n",
    "x_axis = np.arange(50, 80, 0.1)\n",
    "plt.plot(x_axis, [calc_prob(x, SHOTS, TARGET) for x in x_axis])\n",
    "plt.show()"
   ]
  },
  {
   "cell_type": "code",
   "execution_count": 5,
   "metadata": {},
   "outputs": [],
   "source": [
    "l = 50.\n",
    "r = 60.\n",
    "\n",
    "ACCURACY = 10 ** (-12)\n",
    "TARGET_PROB = 0.02\n",
    "\n",
    "while r - l >= ACCURACY:\n",
    "    m = (l + r) / 2\n",
    "\n",
    "    if calc_prob(m, SHOTS, TARGET) < TARGET_PROB:\n",
    "        r = m\n",
    "    else:\n",
    "        l = m"
   ]
  },
  {
   "cell_type": "code",
   "execution_count": 6,
   "metadata": {},
   "outputs": [
    {
     "data": {
      "text/plain": [
       "(52.649457195308855, 52.649457195309424)"
      ]
     },
     "execution_count": 6,
     "metadata": {},
     "output_type": "execute_result"
    }
   ],
   "source": [
    "l, r"
   ]
  },
  {
   "cell_type": "code",
   "execution_count": 7,
   "metadata": {},
   "outputs": [
    {
     "data": {
      "text/plain": [
       "52.6494571953"
      ]
     },
     "execution_count": 7,
     "metadata": {},
     "output_type": "execute_result"
    }
   ],
   "source": [
    "round(l, 10)"
   ]
  },
  {
   "cell_type": "code",
   "execution_count": null,
   "metadata": {},
   "outputs": [],
   "source": []
  }
 ],
 "metadata": {
  "kernelspec": {
   "display_name": "Python 3",
   "language": "python",
   "name": "python3"
  },
  "language_info": {
   "codemirror_mode": {
    "name": "ipython",
    "version": 3
   },
   "file_extension": ".py",
   "mimetype": "text/x-python",
   "name": "python",
   "nbconvert_exporter": "python",
   "pygments_lexer": "ipython3",
   "version": "3.10.12"
  }
 },
 "nbformat": 4,
 "nbformat_minor": 2
}

{
 "cells": [
  {
   "cell_type": "code",
   "execution_count": 1,
   "metadata": {},
   "outputs": [],
   "source": [
    "from functools import cache\n",
    "from typing import Tuple\n",
    "\n",
    "@cache\n",
    "def dp(n: int, digit_counts: Tuple) -> int:\n",
    "    if n == 0:\n",
    "        return 1\n",
    "    res = 0\n",
    "    x = list(digit_counts)\n",
    "    for i in range(len(digit_counts)):\n",
    "        if digit_counts[i] < 3:\n",
    "            x[i] += 1\n",
    "            res += dp(n - 1, tuple(x))\n",
    "            x[i] -= 1\n",
    "    return res"
   ]
  },
  {
   "cell_type": "code",
   "execution_count": 9,
   "metadata": {},
   "outputs": [],
   "source": [
    "from tqdm import tqdm\n",
    "\n",
    "res = 0\n",
    "for i in range(1, 10):\n",
    "    # print(dp(n, (0,) * i + (1,) + (0,) * (9 - i)))\n",
    "    res += dp(17, (0,) * i + (1,) + (0,) * (9 - i))"
   ]
  },
  {
   "cell_type": "code",
   "execution_count": 10,
   "metadata": {},
   "outputs": [
    {
     "data": {
      "text/plain": [
       "227485267000992000"
      ]
     },
     "execution_count": 10,
     "metadata": {},
     "output_type": "execute_result"
    }
   ],
   "source": [
    "res"
   ]
  },
  {
   "cell_type": "code",
   "execution_count": null,
   "metadata": {},
   "outputs": [],
   "source": []
  }
 ],
 "metadata": {
  "kernelspec": {
   "display_name": "Python 3",
   "language": "python",
   "name": "python3"
  },
  "language_info": {
   "codemirror_mode": {
    "name": "ipython",
    "version": 3
   },
   "file_extension": ".py",
   "mimetype": "text/x-python",
   "name": "python",
   "nbconvert_exporter": "python",
   "pygments_lexer": "ipython3",
   "version": "3.10.12"
  }
 },
 "nbformat": 4,
 "nbformat_minor": 2
}

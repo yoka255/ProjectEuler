{
 "cells": [
  {
   "cell_type": "code",
   "execution_count": 1,
   "metadata": {},
   "outputs": [],
   "source": [
    "N = 30\n",
    "dp = [[[0, 0] for _ in range(3)] for _ in range(N + 1)]\n",
    "\n",
    "dp[0][0][0] = 1\n",
    "for d in range(1, N+1):\n",
    "    dp[d][0][0] = dp[d-1][0][0] + dp[d-1][1][0] + dp[d-1][2][0]\n",
    "    dp[d][1][0] = dp[d-1][0][0]\n",
    "    dp[d][2][0] = dp[d-1][1][0]\n",
    "    dp[d][1][1] = dp[d-1][0][1]\n",
    "    dp[d][2][1] = dp[d-1][1][1]\n",
    "    dp[d][0][1] = dp[d-1][0][0] + dp[d-1][1][0] + dp[d-1][2][0] + dp[d-1][0][1] + dp[d-1][1][1] + dp[d-1][2][1]"
   ]
  },
  {
   "cell_type": "code",
   "execution_count": 4,
   "metadata": {},
   "outputs": [
    {
     "data": {
      "text/plain": [
       "1918080160"
      ]
     },
     "execution_count": 4,
     "metadata": {},
     "output_type": "execute_result"
    }
   ],
   "source": [
    "from itertools import product\n",
    "\n",
    "res = 0\n",
    "for i, j in product(range(3), range(2)):\n",
    "    res += dp[30][i][j]\n",
    "res"
   ]
  }
 ],
 "metadata": {
  "kernelspec": {
   "display_name": "Python 3",
   "language": "python",
   "name": "python3"
  },
  "language_info": {
   "codemirror_mode": {
    "name": "ipython",
    "version": 3
   },
   "file_extension": ".py",
   "mimetype": "text/x-python",
   "name": "python",
   "nbconvert_exporter": "python",
   "pygments_lexer": "ipython3",
   "version": "3.8.10"
  }
 },
 "nbformat": 4,
 "nbformat_minor": 2
}

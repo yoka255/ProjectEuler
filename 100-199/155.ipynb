{
 "cells": [
  {
   "cell_type": "code",
   "execution_count": 1,
   "metadata": {},
   "outputs": [],
   "source": [
    "from euler import Fraction\n",
    "from functools import cache\n",
    "from typing import Set\n",
    "from itertools import product\n",
    "\n",
    "\n",
    "@cache\n",
    "def opts_set(n: int) -> Set[Fraction]:\n",
    "    if n == 1:\n",
    "        return {Fraction(1)}\n",
    "    res = set()\n",
    "\n",
    "    for k in range(1, n):\n",
    "        left_side, right_side = opts_set(k), opts_set(n-k)\n",
    "        res |= {l + r for l, r in product(left_side, right_side)}\n",
    "        res |= {1 / (1 / l + 1 / r) for l, r in product(left_side, right_side)}\n",
    "    return res\n",
    "\n",
    "def D(n: int) -> int:\n",
    "    return len(set().union(*map(opts_set, range(1, n + 1))))"
   ]
  },
  {
   "cell_type": "code",
   "execution_count": 2,
   "metadata": {},
   "outputs": [
    {
     "name": "stdout",
     "output_type": "stream",
     "text": [
      "1 1\n",
      "2 3\n",
      "3 7\n",
      "4 15\n",
      "5 35\n",
      "6 77\n",
      "7 179\n",
      "8 429\n",
      "9 1039\n",
      "10 2525\n",
      "11 6235\n",
      "12 15463\n",
      "13 38513\n",
      "14 96231\n",
      "15 241519\n",
      "16 607339\n",
      "17 1529533\n",
      "18 3857447\n"
     ]
    }
   ],
   "source": [
    "for k in range(1, 19):\n",
    "    print(k, D(k))"
   ]
  },
  {
   "cell_type": "markdown",
   "metadata": {},
   "source": []
  }
 ],
 "metadata": {
  "kernelspec": {
   "display_name": "Python 3",
   "language": "python",
   "name": "python3"
  },
  "language_info": {
   "codemirror_mode": {
    "name": "ipython",
    "version": 3
   },
   "file_extension": ".py",
   "mimetype": "text/x-python",
   "name": "python",
   "nbconvert_exporter": "python",
   "pygments_lexer": "ipython3",
   "version": "3.10.12"
  }
 },
 "nbformat": 4,
 "nbformat_minor": 2
}

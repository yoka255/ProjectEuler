{
 "cells": [
  {
   "cell_type": "code",
   "execution_count": 4,
   "metadata": {},
   "outputs": [],
   "source": [
    "from functools import cache\n",
    "from euler import is_square\n",
    "\n",
    "N = 20\n",
    "MAX_VAL = N * 9 * 9\n",
    "\n",
    "dp_sum = [[0] * N for _ in range(MAX_VAL)]\n",
    "dp_cnt = [[0] * N for _ in range(MAX_VAL)]\n",
    "\n",
    "for i in range(10):\n",
    "    dp_sum[i**2][0] = i\n",
    "    dp_cnt[i**2][0] = 1\n",
    "\n",
    "for d in range(N - 1):\n",
    "    for k in range(10):\n",
    "        for m in range(MAX_VAL - k**2):\n",
    "            dp_sum[m + k**2][d + 1] += dp_sum[m][d] + dp_cnt[m][d] * k * 10 ** (d + 1)\n",
    "            dp_cnt[m + k**2][d + 1] += dp_cnt[m][d]"
   ]
  },
  {
   "cell_type": "code",
   "execution_count": 5,
   "metadata": {},
   "outputs": [],
   "source": [
    "res = 0\n",
    "for k in range(0, int(MAX_VAL**0.5)):\n",
    "    res += dp_sum[k**2][N - 1]"
   ]
  },
  {
   "cell_type": "code",
   "execution_count": 7,
   "metadata": {},
   "outputs": [
    {
     "data": {
      "text/plain": [
       "142989277"
      ]
     },
     "execution_count": 7,
     "metadata": {},
     "output_type": "execute_result"
    }
   ],
   "source": [
    "res % (10 ** 9)"
   ]
  },
  {
   "cell_type": "code",
   "execution_count": null,
   "metadata": {},
   "outputs": [],
   "source": []
  }
 ],
 "metadata": {
  "kernelspec": {
   "display_name": "Python 3",
   "language": "python",
   "name": "python3"
  },
  "language_info": {
   "codemirror_mode": {
    "name": "ipython",
    "version": 3
   },
   "file_extension": ".py",
   "mimetype": "text/x-python",
   "name": "python",
   "nbconvert_exporter": "python",
   "pygments_lexer": "ipython3",
   "version": "3.10.12"
  }
 },
 "nbformat": 4,
 "nbformat_minor": 2
}

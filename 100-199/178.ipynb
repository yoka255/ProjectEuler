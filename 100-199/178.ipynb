{
 "cells": [
  {
   "cell_type": "code",
   "execution_count": 32,
   "metadata": {},
   "outputs": [],
   "source": [
    "from functools import cache\n",
    "\n",
    "@cache\n",
    "def dp(last_digit: int, min_val: int, max_val: int, length: int) -> int:\n",
    "    # print(last_digit, min_val, max_val, length)\n",
    "    if min_val == max_val == last_digit:\n",
    "        return 1 if length == 1 else 0\n",
    "    assert min_val != max_val\n",
    "    if length == 1:\n",
    "        return 0\n",
    "    if last_digit == min_val:\n",
    "        return dp(last_digit + 1, min_val, max_val, length - 1) + dp(last_digit + 1, min_val + 1, max_val, length - 1)\n",
    "    elif last_digit == max_val:\n",
    "        return dp(last_digit - 1, min_val, max_val, length - 1) + dp(last_digit - 1, min_val, max_val - 1, length - 1)\n",
    "    else:\n",
    "        assert min_val < last_digit < max_val\n",
    "        return dp(last_digit - 1, min_val, max_val, length - 1) + dp(last_digit + 1, min_val, max_val, length - 1)\n"
   ]
  },
  {
   "cell_type": "code",
   "execution_count": 41,
   "metadata": {},
   "outputs": [
    {
     "data": {
      "text/plain": [
       "126461847755"
      ]
     },
     "execution_count": 41,
     "metadata": {},
     "output_type": "execute_result"
    }
   ],
   "source": [
    "N = 40\n",
    "\n",
    "sum(sum(dp(i, 0, 9, n) for i in range(1, 10)) for n in range(1, N+1))"
   ]
  },
  {
   "cell_type": "code",
   "execution_count": 27,
   "metadata": {},
   "outputs": [
    {
     "data": {
      "text/plain": [
       "1"
      ]
     },
     "execution_count": 27,
     "metadata": {},
     "output_type": "execute_result"
    }
   ],
   "source": [
    "dp(0,0,1, 12)"
   ]
  },
  {
   "cell_type": "code",
   "execution_count": null,
   "metadata": {},
   "outputs": [],
   "source": []
  }
 ],
 "metadata": {
  "kernelspec": {
   "display_name": "Python 3",
   "language": "python",
   "name": "python3"
  },
  "language_info": {
   "codemirror_mode": {
    "name": "ipython",
    "version": 3
   },
   "file_extension": ".py",
   "mimetype": "text/x-python",
   "name": "python",
   "nbconvert_exporter": "python",
   "pygments_lexer": "ipython3",
   "version": "3.10.12"
  }
 },
 "nbformat": 4,
 "nbformat_minor": 2
}

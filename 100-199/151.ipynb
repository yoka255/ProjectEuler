{
 "cells": [
  {
   "cell_type": "code",
   "execution_count": 13,
   "metadata": {},
   "outputs": [],
   "source": [
    "from collections import defaultdict\n",
    "\n",
    "N = 5\n",
    "\n",
    "dp = defaultdict(float)\n",
    "seen = set()\n",
    "queue = [[1] + [0] * (N - 1)]\n",
    "\n",
    "dp[tuple(queue[0])] = 1.0\n",
    "\n",
    "while queue:\n",
    "    curr = queue.pop(0)\n",
    "    curr_prob = dp[tuple(curr)]\n",
    "    if tuple(curr) in seen:\n",
    "        continue\n",
    "    seen.add(tuple(curr))\n",
    "    tot = sum(curr)\n",
    "    for i in range(N):\n",
    "        if curr[i] == 0:\n",
    "            continue\n",
    "        nxt = curr.copy()\n",
    "        nxt[i] -= 1\n",
    "        for j in range(i + 1, N):\n",
    "            nxt[j] += 1\n",
    "        dp[tuple(nxt)] += (curr[i] / tot) * curr_prob\n",
    "        queue.append(nxt)"
   ]
  },
  {
   "cell_type": "code",
   "execution_count": 17,
   "metadata": {},
   "outputs": [
    {
     "data": {
      "text/plain": [
       "0.46439878160108694"
      ]
     },
     "execution_count": 17,
     "metadata": {},
     "output_type": "execute_result"
    }
   ],
   "source": [
    "dp[(0,1,0,0,0)] + dp[(0,0,1,0,0)] + dp[(0,0, 0, 1,0)]"
   ]
  },
  {
   "cell_type": "code",
   "execution_count": null,
   "metadata": {},
   "outputs": [],
   "source": []
  }
 ],
 "metadata": {
  "kernelspec": {
   "display_name": "Python 3",
   "language": "python",
   "name": "python3"
  },
  "language_info": {
   "codemirror_mode": {
    "name": "ipython",
    "version": 3
   },
   "file_extension": ".py",
   "mimetype": "text/x-python",
   "name": "python",
   "nbconvert_exporter": "python",
   "pygments_lexer": "ipython3",
   "version": "3.10.12"
  }
 },
 "nbformat": 4,
 "nbformat_minor": 2
}

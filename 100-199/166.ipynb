{
 "cells": [
  {
   "cell_type": "code",
   "execution_count": 38,
   "metadata": {},
   "outputs": [],
   "source": [
    "from typing import Iterable, Generator\n",
    "\n",
    "def create_board(all_sum, a, b, c, d, e, f, g) -> list[list[int]]:\n",
    "    return [\n",
    "        [a                                  , b                , c                , all_sum - (a + b + c)                ],\n",
    "        [d                                  , e                , f                , all_sum - (d + e + f)                ],\n",
    "        [all_sum - (a + d + a + b + c - (g + f)), g                , all_sum - (e + f + g), - all_sum + 2 * a + b + c + d + e - g],\n",
    "        [a + b + c - (g + f)                , all_sum - (b + e + g), (e + g) - c      , g + f - a                        ],\n",
    "    ]\n",
    "\n",
    "def validate_board(b: list[list[int]], all_sum: int) -> bool:\n",
    "    for row in b:\n",
    "        for val in row:\n",
    "            if not 0 <= val <= 9:\n",
    "                return False\n",
    "    for i in range(4):\n",
    "        if sum(b[i]) != all_sum:\n",
    "            return False\n",
    "    for i in range(4):\n",
    "        if sum(b[j][i] for j in range(4)) != all_sum:\n",
    "            return False\n",
    "    if sum(b[i][i] for i in range(4)) != all_sum:\n",
    "        return False\n",
    "    if sum(b[i][3-i] for i in range(4)) != all_sum:\n",
    "        return False\n",
    "    return True\n",
    "\n",
    "def bounded_repeat(iter: Iterable[int], bound: int, rep: int) -> Generator[tuple, None, None]:\n",
    "    if rep == 1:\n",
    "        for k in iter:\n",
    "            if k > bound:\n",
    "                break\n",
    "            yield (k,)\n",
    "    else:    \n",
    "        for k in iter:\n",
    "            if k > bound:\n",
    "                break\n",
    "            for tup in bounded_repeat(iter, bound - k, rep - 1):\n",
    "                yield (k,) + tup"
   ]
  },
  {
   "cell_type": "code",
   "execution_count": 12,
   "metadata": {},
   "outputs": [
    {
     "name": "stdout",
     "output_type": "stream",
     "text": [
      "(0, 0, 0, 0, 0, 0, 0)\n"
     ]
    }
   ],
   "source": [
    "for tup in bounded_repeat(range(10), 0, 7):\n",
    "    print(tup)"
   ]
  },
  {
   "cell_type": "code",
   "execution_count": 41,
   "metadata": {},
   "outputs": [
    {
     "name": "stderr",
     "output_type": "stream",
     "text": [
      "100%|██████████| 37/37 [02:28<00:00,  4.01s/it]\n"
     ]
    }
   ],
   "source": [
    "from tqdm import tqdm\n",
    "from itertools import product\n",
    "\n",
    "res = 0\n",
    "for s in tqdm(range(37)):\n",
    "    for first_row in product(range(10), repeat=3):\n",
    "        if sum(first_row) > s:\n",
    "            continue\n",
    "        for second_row in product(range(10), repeat=3):\n",
    "            if sum(second_row) > s:\n",
    "                continue\n",
    "            for last_val in range(10):\n",
    "                board = create_board(s, *first_row, *second_row, last_val)\n",
    "                if validate_board(board, s):\n",
    "                    res += 1"
   ]
  },
  {
   "cell_type": "code",
   "execution_count": 42,
   "metadata": {},
   "outputs": [
    {
     "data": {
      "text/plain": [
       "7130034"
      ]
     },
     "execution_count": 42,
     "metadata": {},
     "output_type": "execute_result"
    }
   ],
   "source": [
    "res"
   ]
  },
  {
   "cell_type": "code",
   "execution_count": null,
   "metadata": {},
   "outputs": [],
   "source": []
  }
 ],
 "metadata": {
  "kernelspec": {
   "display_name": "Python 3",
   "language": "python",
   "name": "python3"
  },
  "language_info": {
   "codemirror_mode": {
    "name": "ipython",
    "version": 3
   },
   "file_extension": ".py",
   "mimetype": "text/x-python",
   "name": "python",
   "nbconvert_exporter": "python",
   "pygments_lexer": "ipython3",
   "version": "3.10.12"
  }
 },
 "nbformat": 4,
 "nbformat_minor": 2
}

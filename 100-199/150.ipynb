{
 "cells": [
  {
   "cell_type": "code",
   "execution_count": 7,
   "metadata": {},
   "outputs": [],
   "source": [
    "t = [0]\n",
    "s = []\n",
    "for _ in range(500500):\n",
    "    t.append((615949*t[-1] + 797807) % (2 ** 20))\n",
    "    s.append(t[-1] - 2 ** 19)\n"
   ]
  },
  {
   "cell_type": "code",
   "execution_count": 9,
   "metadata": {},
   "outputs": [],
   "source": [
    "N = 1000\n",
    "p = []\n",
    "for i in range(N):\n",
    "    p.append(s[i * (i + 1) // 2 : i * (i + 1) // 2 + i + 1])"
   ]
  },
  {
   "cell_type": "code",
   "execution_count": 11,
   "metadata": {},
   "outputs": [],
   "source": [
    "subsums = []\n",
    "for i, row in enumerate(p):\n",
    "    subsums.append([0])\n",
    "    for x in row:\n",
    "        subsums[-1].append(subsums[-1][-1] + x)"
   ]
  },
  {
   "cell_type": "code",
   "execution_count": 24,
   "metadata": {},
   "outputs": [
    {
     "name": "stderr",
     "output_type": "stream",
     "text": [
      "100%|██████████| 1000/1000 [00:34<00:00, 28.80it/s]\n"
     ]
    }
   ],
   "source": [
    "from tqdm import tqdm\n",
    "\n",
    "res = 0\n",
    "for i in tqdm(range(N)):\n",
    "    for j, x in enumerate(p[i]):\n",
    "        cursum = x\n",
    "        res = min(res, cursum)\n",
    "        for row_index, sum_row in enumerate(subsums[i+1:]):\n",
    "            # print(sum_row[j + (row_index + 2)] - sum_row[j])\n",
    "            cursum += sum_row[j + (row_index + 2)] - sum_row[j]\n",
    "            res = min(res, cursum)"
   ]
  },
  {
   "cell_type": "code",
   "execution_count": 25,
   "metadata": {},
   "outputs": [
    {
     "data": {
      "text/plain": [
       "-271248680"
      ]
     },
     "execution_count": 25,
     "metadata": {},
     "output_type": "execute_result"
    }
   ],
   "source": [
    "res"
   ]
  },
  {
   "cell_type": "code",
   "execution_count": null,
   "metadata": {},
   "outputs": [],
   "source": []
  }
 ],
 "metadata": {
  "kernelspec": {
   "display_name": "Python 3",
   "language": "python",
   "name": "python3"
  },
  "language_info": {
   "codemirror_mode": {
    "name": "ipython",
    "version": 3
   },
   "file_extension": ".py",
   "mimetype": "text/x-python",
   "name": "python",
   "nbconvert_exporter": "python",
   "pygments_lexer": "ipython3",
   "version": "3.10.12"
  }
 },
 "nbformat": 4,
 "nbformat_minor": 2
}

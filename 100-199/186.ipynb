{
 "cells": [
  {
   "cell_type": "code",
   "execution_count": 1,
   "metadata": {},
   "outputs": [],
   "source": [
    "from functools import cache\n",
    "from typing import Dict, List, Tuple\n",
    "from itertools import count\n",
    "\n",
    "MOD = 1000000\n",
    "\n",
    "@cache\n",
    "def S(k: int) -> int:\n",
    "    if 1 <= k <= 55:\n",
    "        return (100003 - 200003 * k + 300007 * k ** 3) % MOD\n",
    "    return (S(k - 24) + S(k - 55)) % MOD\n",
    "\n",
    "\n"
   ]
  },
  {
   "cell_type": "code",
   "execution_count": 4,
   "metadata": {},
   "outputs": [
    {
     "name": "stdout",
     "output_type": "stream",
     "text": [
      "2325632\n",
      "2325629\n"
     ]
    }
   ],
   "source": [
    "pm = 524287\n",
    "dsu = DSU()\n",
    "\n",
    "res = 0\n",
    "\n",
    "for n in count(1):\n",
    "    x, y = dsu.get_pair(n)\n",
    "\n",
    "    if x != y:\n",
    "        res += 1\n",
    "\n",
    "        dsu.join(x, y)\n",
    "        if pm in dsu.ind and dsu.size[dsu.get_root(dsu.ind[pm])] >= 0.99 * MOD:\n",
    "            print(n)\n",
    "            print(res)\n",
    "            break\n",
    "\n",
    "        # if x < len(dsu.ind) - 3:\n",
    "\n",
    "        #     print(x, y)\n",
    "        #     print(dsu.ind)\n",
    "        #     print(dsu.parent)\n",
    "        #     print(dsu.size)\n",
    "        #     break"
   ]
  },
  {
   "cell_type": "code",
   "execution_count": null,
   "metadata": {},
   "outputs": [],
   "source": []
  }
 ],
 "metadata": {
  "kernelspec": {
   "display_name": "Python 3",
   "language": "python",
   "name": "python3"
  },
  "language_info": {
   "codemirror_mode": {
    "name": "ipython",
    "version": 3
   },
   "file_extension": ".py",
   "mimetype": "text/x-python",
   "name": "python",
   "nbconvert_exporter": "python",
   "pygments_lexer": "ipython3",
   "version": "3.10.12"
  }
 },
 "nbformat": 4,
 "nbformat_minor": 2
}

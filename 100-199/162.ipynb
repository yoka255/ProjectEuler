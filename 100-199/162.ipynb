{
 "cells": [
  {
   "cell_type": "code",
   "execution_count": 13,
   "metadata": {},
   "outputs": [
    {
     "name": "stdout",
     "output_type": "stream",
     "text": [
      "3D58725572C62302\n",
      "14026335328122035453\n"
     ]
    }
   ],
   "source": [
    "N = 16\n",
    "\n",
    "res = 0\n",
    "\n",
    "for d in range(1, N + 1):\n",
    "    res += 15 ** (d-1) * 14 * 2 + 15 ** d\n",
    "    res -= 14 ** d * 2 + 14 ** (d-1) * 13\n",
    "    res += 13 ** d\n",
    "\n",
    "print(hex(16 ** N - 1 - res)[2:].upper())\n",
    "print(res)"
   ]
  },
  {
   "cell_type": "code",
   "execution_count": null,
   "metadata": {},
   "outputs": [],
   "source": []
  }
 ],
 "metadata": {
  "kernelspec": {
   "display_name": "Python 3",
   "language": "python",
   "name": "python3"
  },
  "language_info": {
   "codemirror_mode": {
    "name": "ipython",
    "version": 3
   },
   "file_extension": ".py",
   "mimetype": "text/x-python",
   "name": "python",
   "nbconvert_exporter": "python",
   "pygments_lexer": "ipython3",
   "version": "3.10.12"
  }
 },
 "nbformat": 4,
 "nbformat_minor": 2
}

{
 "cells": [
  {
   "cell_type": "markdown",
   "metadata": {},
   "source": [
    "Define $P_k(N) = \\left(\\frac{N}{k}\\right)^k$\n",
    "\n",
    "Define $M(N) = \\max_{k\\in\\mathbb{N}}P_k(N)$"
   ]
  },
  {
   "cell_type": "markdown",
   "metadata": {},
   "source": [
    "look at $f_N(x) = \\left(\\frac{N}{x}\\right)^x$, and find it's extreme point.\n",
    "\n",
    "It is at $x=\\frac{N}{e}$. Then look around it to find extreme maximal natural value"
   ]
  },
  {
   "cell_type": "code",
   "execution_count": 10,
   "metadata": {},
   "outputs": [],
   "source": [
    "import math\n",
    "\n",
    "\n",
    "def f(x: int, N: int) -> float:\n",
    "    return math.log(N / x) * x\n",
    "\n",
    "\n",
    "def find_max(N: int) -> int:\n",
    "    m = N / math.e\n",
    "    if f(int(m), N) < f(int(m) + 1, N):\n",
    "        return int(m) + 1\n",
    "    else:\n",
    "        return int(m)"
   ]
  },
  {
   "cell_type": "code",
   "execution_count": 11,
   "metadata": {},
   "outputs": [
    {
     "data": {
      "text/plain": [
       "4"
      ]
     },
     "execution_count": 11,
     "metadata": {},
     "output_type": "execute_result"
    }
   ],
   "source": [
    "find_max(11)"
   ]
  },
  {
   "cell_type": "code",
   "execution_count": 14,
   "metadata": {},
   "outputs": [
    {
     "data": {
      "text/plain": [
       "48861552"
      ]
     },
     "execution_count": 14,
     "metadata": {},
     "output_type": "execute_result"
    }
   ],
   "source": [
    "from math import gcd\n",
    "\n",
    "MAX_N = 10000\n",
    "\n",
    "res = 0\n",
    "for N in range(5, MAX_N + 1):\n",
    "    k = find_max(N)\n",
    "    denom = k // gcd(k, N)\n",
    "    while denom % 2 == 0:\n",
    "        denom //= 2\n",
    "    while denom % 5 == 0:\n",
    "        denom //= 5\n",
    "    if denom == 1:\n",
    "        res -= N\n",
    "    else:\n",
    "        res += N\n",
    "res"
   ]
  }
 ],
 "metadata": {
  "kernelspec": {
   "display_name": "Python 3",
   "language": "python",
   "name": "python3"
  },
  "language_info": {
   "codemirror_mode": {
    "name": "ipython",
    "version": 3
   },
   "file_extension": ".py",
   "mimetype": "text/x-python",
   "name": "python",
   "nbconvert_exporter": "python",
   "pygments_lexer": "ipython3",
   "version": "3.10.12"
  }
 },
 "nbformat": 4,
 "nbformat_minor": 2
}

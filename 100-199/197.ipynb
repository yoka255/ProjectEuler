{
 "cells": [
  {
   "cell_type": "markdown",
   "metadata": {},
   "source": [
    "define $f(x) = \\lfloor 2^{30.403243784 - x ^ 2} \\rfloor \\cdot 10 ^ {-9}$\n",
    "\n",
    "$u_0 = -1, u_{n+1} = f(u_n)$"
   ]
  },
  {
   "cell_type": "code",
   "execution_count": 1,
   "metadata": {},
   "outputs": [],
   "source": [
    "def f(x: float) -> float:\n",
    "    m = int(2 ** (30.403243784 - x ** 2))\n",
    "    return m * 10 ** (-9)\n",
    "\n",
    "\n",
    "def g(x: int) -> int:\n",
    "    m = int(2 ** (30.403243784 - (x * 10 ** (-9)) ** 2))\n",
    "    return m\n"
   ]
  },
  {
   "cell_type": "code",
   "execution_count": 5,
   "metadata": {},
   "outputs": [],
   "source": [
    "# u = [-1.0]\n",
    "v = [- 10 ** 9]\n",
    "\n",
    "for _ in range(10 ** 6):\n",
    "    # u.append(f(u[-1]))\n",
    "    v.append(g(v[-1]))"
   ]
  },
  {
   "cell_type": "code",
   "execution_count": 6,
   "metadata": {},
   "outputs": [
    {
     "data": {
      "text/plain": [
       "1710637717"
      ]
     },
     "execution_count": 6,
     "metadata": {},
     "output_type": "execute_result"
    }
   ],
   "source": [
    "v[-2] + v[-1]"
   ]
  },
  {
   "cell_type": "code",
   "execution_count": null,
   "metadata": {},
   "outputs": [],
   "source": []
  }
 ],
 "metadata": {
  "kernelspec": {
   "display_name": "Python 3",
   "language": "python",
   "name": "python3"
  },
  "language_info": {
   "codemirror_mode": {
    "name": "ipython",
    "version": 3
   },
   "file_extension": ".py",
   "mimetype": "text/x-python",
   "name": "python",
   "nbconvert_exporter": "python",
   "pygments_lexer": "ipython3",
   "version": "3.10.12"
  }
 },
 "nbformat": 4,
 "nbformat_minor": 2
}

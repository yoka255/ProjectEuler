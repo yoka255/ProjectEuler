{
 "cells": [
  {
   "cell_type": "markdown",
   "metadata": {},
   "source": [
    "Numbers in which the first step is to remove $n^3$:\n",
    "\n",
    "$n^3,\\dots,(n + 1) ^ 3 - 1$\n",
    "\n",
    "$S(k) - S(n ^ 3) = k - n ^ 3 + S(k - n ^ 3)$"
   ]
  },
  {
   "cell_type": "markdown",
   "metadata": {},
   "source": [
    "$S(n ^ 3) = S((n-1) ^ 3) + "
   ]
  },
  {
   "cell_type": "code",
   "execution_count": 1,
   "metadata": {},
   "outputs": [],
   "source": [
    "from functools import lru_cache\n",
    "\n",
    "@lru_cache(maxsize=None)\n",
    "def S(k: int) -> int:\n",
    "    if k in [0, 1]:\n",
    "        return 0\n",
    "    n = int((k - 1) ** (1/3))\n",
    "    while n ** 3 > k:\n",
    "        n -= 1\n",
    "    while (n + 1) ** 3 < k:\n",
    "        n += 1\n",
    "    return S(n ** 3) + S(k - n ** 3) + k - n ** 3"
   ]
  },
  {
   "cell_type": "code",
   "execution_count": 4,
   "metadata": {},
   "outputs": [
    {
     "data": {
      "text/plain": [
       "1105985795684653500"
      ]
     },
     "execution_count": 4,
     "metadata": {},
     "output_type": "execute_result"
    }
   ],
   "source": [
    "import resource\n",
    "import sys\n",
    "\n",
    "resource.setrlimit(resource.RLIMIT_STACK, [0x100000000, resource.RLIM_INFINITY])\n",
    "sys.setrecursionlimit(1_000_000)\n",
    "S(10 ** 17)"
   ]
  },
  {
   "cell_type": "code",
   "execution_count": null,
   "metadata": {},
   "outputs": [],
   "source": []
  }
 ],
 "metadata": {
  "kernelspec": {
   "display_name": "Python 3",
   "language": "python",
   "name": "python3"
  },
  "language_info": {
   "codemirror_mode": {
    "name": "ipython",
    "version": 3
   },
   "file_extension": ".py",
   "mimetype": "text/x-python",
   "name": "python",
   "nbconvert_exporter": "python",
   "pygments_lexer": "ipython3",
   "version": "3.8.10"
  }
 },
 "nbformat": 4,
 "nbformat_minor": 2
}

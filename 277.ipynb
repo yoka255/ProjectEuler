{
 "cells": [
  {
   "cell_type": "code",
   "execution_count": 42,
   "metadata": {},
   "outputs": [],
   "source": [
    "from typing import Tuple\n",
    "\n",
    "def next_val(a: int) -> Tuple[int, str]:\n",
    "    if a % 3 == 0:\n",
    "        return a // 3, \"D\"\n",
    "    elif a % 3 == 1:\n",
    "        return (4 * a + 2) // 3, \"U\"\n",
    "    else:\n",
    "        return (2 * a - 1) // 3, \"d\"\n",
    "\n",
    "\n",
    "def reverse(a: int, step: str) -> int:\n",
    "    if step == \"D\":\n",
    "        return 3 * a\n",
    "    if step == \"U\":\n",
    "        return (3 * a - 2) // 4\n",
    "    else:\n",
    "        return (3 * a + 1) // 2\n",
    "\n",
    "\n",
    "def reverse_sequence(a: int, sequence: str) -> int:\n",
    "    for c in sequence[::-1]:\n",
    "        a = reverse(a, c)\n",
    "    return a\n"
   ]
  },
  {
   "cell_type": "code",
   "execution_count": 35,
   "metadata": {},
   "outputs": [
    {
     "name": "stdout",
     "output_type": "stream",
     "text": [
      "UUUUDDDdDDddUddDDUdDUDDDDddDddUUUdDdUDdDddDUDdUddDUUDdDdDDdDdddDdD\n"
     ]
    }
   ],
   "source": [
    "a = 1000000042557343\n",
    "series = [1000000042557343]\n",
    "str_series = \"\"\n",
    "while a != 1:\n",
    "    a, step = next_val(a)\n",
    "    series += [a]\n",
    "    str_series += step\n",
    "print(str_series)"
   ]
  },
  {
   "cell_type": "code",
   "execution_count": 36,
   "metadata": {},
   "outputs": [
    {
     "data": {
      "text/plain": [
       "[-40104417, 36513503]"
      ]
     },
     "execution_count": 36,
     "metadata": {},
     "output_type": "execute_result"
    }
   ],
   "source": [
    "target = \"UDDDUdddDDUDDddDdDddDDUDDdUUDd\"\n",
    "\n",
    "y = [reverse_sequence(x, target) for x in [0, 1]]\n",
    "y"
   ]
  },
  {
   "cell_type": "code",
   "execution_count": 37,
   "metadata": {},
   "outputs": [],
   "source": [
    "b = y[0]\n",
    "a = y[1] - y[0]\n",
    "min_val = 10 ** 15\n",
    "res = min_val + (b - min_val) % a"
   ]
  },
  {
   "cell_type": "code",
   "execution_count": 43,
   "metadata": {},
   "outputs": [
    {
     "name": "stdout",
     "output_type": "stream",
     "text": [
      "5033025.085019827 -40104417\n",
      "54121296.24863815 36513503\n",
      "103209567.41225648 113131423\n",
      "152297838.5758748 189749343\n"
     ]
    }
   ],
   "source": [
    "for i in range(4):\n",
    "    print(reverse_sequence(i, target), a * i + b)"
   ]
  },
  {
   "cell_type": "markdown",
   "metadata": {},
   "source": [
    "Notice that the function $x\\to \\text{reverse}(x, t)$ for some constant string $t$ is a linear function, thus we can calculate it by plugging in 0, 1.\n",
    "\n",
    "Denote the function as $y = a \\cdot x + b$. We want the smallest $y > 10 ^ {15}$ such that $x \\in \\mathbb{N}$, thus we want $y - b \\equiv 0 \\mod a$\n",
    "\n",
    "Take $y = 10 ^ {15} + \\left(b - 10^{15} \\right) \\% a$"
   ]
  }
 ],
 "metadata": {
  "kernelspec": {
   "display_name": "Python 3",
   "language": "python",
   "name": "python3"
  },
  "language_info": {
   "codemirror_mode": {
    "name": "ipython",
    "version": 3
   },
   "file_extension": ".py",
   "mimetype": "text/x-python",
   "name": "python",
   "nbconvert_exporter": "python",
   "pygments_lexer": "ipython3",
   "version": "3.8.10"
  }
 },
 "nbformat": 4,
 "nbformat_minor": 2
}
